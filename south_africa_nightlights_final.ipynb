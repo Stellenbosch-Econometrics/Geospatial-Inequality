{
  "cells": [
    {
      "cell_type": "code",
      "execution_count": null,
      "metadata": {
        "id": "iMKetJChU4C2"
      },
      "outputs": [],
      "source": [
        "import ee\n",
        "try:\n",
        "        ee.Initialize()\n",
        "except Exception as e:\n",
        "        ee.Authenticate()\n",
        "        ee.Initialize()"
      ]
    },
    {
      "cell_type": "code",
      "execution_count": null,
      "metadata": {
        "id": "5TGlX8UTU6To"
      },
      "outputs": [],
      "source": [
        "# Nightlights\n",
        "viirs = ee.ImageCollection(\"NOAA/VIIRS/DNB/MONTHLY_V1/VCMSLCFG\").select('avg_rad')\n",
        "\n",
        "# Boundary of South Africa\n",
        "sa_boundary = ee.FeatureCollection(\"FAO/GAUL/2015/level0\").filter(ee.Filter.eq(\"ADM0_NAME\", \"South Africa\"))\n",
        "\n",
        "# Get a list of all the image IDs in the clipped collection\n",
        "image_ids = viirs.aggregate_array(\"system:id\").getInfo()\n",
        "image_ids"
      ]
    },
    {
      "cell_type": "code",
      "execution_count": null,
      "metadata": {
        "id": "IHdbnIyob7q4"
      },
      "outputs": [],
      "source": [
        "# https://gis.stackexchange.com/questions/325188/masking-pixels-inside-the-polygons-using-google-earth-engine\n",
        "def maskOutside(image, geometry):\n",
        "    mask = ee.Image.constant(1).clip(geometry).mask() # .not() # to mask inside\n",
        "    return image.updateMask(mask)"
      ]
    },
    {
      "cell_type": "code",
      "execution_count": null,
      "metadata": {},
      "outputs": [],
      "source": [
        "# South Africa Boundaries\n",
        "minlon = 16; minlat = -35; maxlon = 34; maxlat = -21\n",
        "\n",
        "# Define the bounding box\n",
        "south_africa_bbox = ee.Geometry.Rectangle([minlon, minlat, maxlon, maxlat])"
      ]
    },
    {
      "cell_type": "code",
      "execution_count": null,
      "metadata": {},
      "outputs": [],
      "source": [
        "# Display Nightlights South Africa\n",
        "import geemap\n",
        "Map = geemap.Map()\n",
        "center = sa_boundary.geometry().centroid().getInfo()\n",
        "Map.setCenter(center[\"coordinates\"][0], center[\"coordinates\"][1], 6) \n",
        "Map.addLayer(viirs.first().clip(sa_boundary), {}, \"Layer\")\n",
        "Map.addLayer(south_africa_bbox, {}, 'Rectangle')\n",
        "Map"
      ]
    },
    {
      "cell_type": "code",
      "execution_count": null,
      "metadata": {
        "id": "3suS_v9neAkj"
      },
      "outputs": [],
      "source": [
        "# Download each image\n",
        "for image_id in image_ids:\n",
        "    image = ee.Image(image_id).select('avg_rad')\n",
        "\n",
        "    # Replace all values outside region with -9999\n",
        "    image = maskOutside(image, sa_boundary).unmask(-9999)\n",
        "\n",
        "    # Get the original CRS and geotransform of the image\n",
        "    proj = image.projection().getInfo()\n",
        "\n",
        "    # Create a filename for the downloaded image\n",
        "    filename = image_id.split(\"/\")[-1]\n",
        "\n",
        "    # Export the image with the original CRS and geotransform\n",
        "    task = ee.batch.Export.image.toDrive(\n",
        "        image = image,\n",
        "        region = south_africa_bbox, # sa_boundary.geometry().bounds(),\n",
        "        description = filename,\n",
        "        folder = \"south_africa_viirs_dnb_nightlights_v1_vcmslcfg\",\n",
        "        crs = proj[\"crs\"],\n",
        "        crsTransform = proj[\"transform\"],\n",
        "        maxPixels = 1e13,\n",
        "        fileFormat = \"GeoTIFF\"\n",
        "    )\n",
        "    task.start()\n",
        "\n",
        "    print(f\"Exporting {filename}...\")"
      ]
    },
    {
      "attachments": {},
      "cell_type": "markdown",
      "metadata": {},
      "source": [
        "### Creating Annual Median Composites\n",
        "Following: https://worldbank.github.io/OpenNightLights/tutorials/mod3_6_making_VIIRS_annual_composites.html"
      ]
    },
    {
      "cell_type": "code",
      "execution_count": null,
      "metadata": {},
      "outputs": [],
      "source": [
        "# define our start and end years\n",
        "start = 2014\n",
        "end = 2022\n",
        "\n",
        "years = ee.List.sequence(start, end)\n",
        "\n",
        "print(f\"our list has {years.size().getInfo()} years in it\")"
      ]
    },
    {
      "cell_type": "code",
      "execution_count": null,
      "metadata": {},
      "outputs": [],
      "source": [
        "\n",
        "colID = \"NOAA/VIIRS/DNB/MONTHLY_V1/VCMSLCFG\"\n",
        "def viirs_annual_median_reduce(year):\n",
        "    return ee.ImageCollection(colID).filter(\n",
        "        ee.Filter.calendarRange(year,year,\"year\")).select(\"avg_rad\").median().set('year', year)\n",
        "\n",
        "# map function to each year in our list\n",
        "year_comps = ee.ImageCollection.fromImages(years.map(viirs_annual_median_reduce))"
      ]
    },
    {
      "cell_type": "code",
      "execution_count": null,
      "metadata": {},
      "outputs": [],
      "source": [
        "map2 = geemap.Map(center=center[\"coordinates\"], zoom=6)\n",
        "# map2.add_basemap('SATELLITE')\n",
        "# add each layer\n",
        "for year in range(start,end+1):\n",
        "    img = year_comps.filterMetadata(\"year\", \"equals\", year).first().clip(sa_boundary) #there's only one image, but we extract from collection\n",
        "    map2.addLayer(img, {}, f\"VIIRS-DNB {year}\")\n",
        "    # map2.addLayer(img.mask(img), {}, f\"VIIRS-DNB {year}\", opacity=.75)\n",
        "\n",
        "map2.addLayerControl()\n",
        "map2"
      ]
    },
    {
      "cell_type": "code",
      "execution_count": null,
      "metadata": {},
      "outputs": [],
      "source": [
        "year_comps.aggregate_array(\"year\").getInfo()"
      ]
    },
    {
      "cell_type": "code",
      "execution_count": null,
      "metadata": {},
      "outputs": [],
      "source": [
        "year_comps.filterMetadata(\"year\", \"equals\", year).first().projection().getInfo()"
      ]
    },
    {
      "cell_type": "code",
      "execution_count": null,
      "metadata": {},
      "outputs": [],
      "source": [
        "proj = viirs.first().projection().getInfo()"
      ]
    },
    {
      "cell_type": "code",
      "execution_count": null,
      "metadata": {},
      "outputs": [],
      "source": [
        "# Download each image\n",
        "for year in year_comps.aggregate_array(\"year\").getInfo():\n",
        "    image = year_comps.filterMetadata(\"year\", \"equals\", year).first()\n",
        "\n",
        "    # Replace all values outside region with -9999\n",
        "    image = maskOutside(image, sa_boundary).unmask(-9999)\n",
        "\n",
        "    # Export the image with the original CRS and geotransform\n",
        "    task = ee.batch.Export.image.toDrive(\n",
        "        image = image,\n",
        "        region = south_africa_bbox, # sa_boundary.geometry().bounds(), \n",
        "        description = str(year),\n",
        "        folder = \"south_africa_viirs_dnb_nightlights_v1_vcmslcfg_annual_median_composite\",\n",
        "        crs = proj[\"crs\"],\n",
        "        crsTransform = proj[\"transform\"],\n",
        "        maxPixels = 1e13,\n",
        "        fileFormat = \"GeoTIFF\"\n",
        "    )\n",
        "    task.start()\n",
        "\n",
        "    print(f\"Exporting {year}...\")"
      ]
    }
  ],
  "metadata": {
    "colab": {
      "provenance": []
    },
    "kernelspec": {
      "display_name": "Python 3",
      "name": "python3"
    },
    "language_info": {
      "codemirror_mode": {
        "name": "ipython",
        "version": 3
      },
      "file_extension": ".py",
      "mimetype": "text/x-python",
      "name": "python",
      "nbconvert_exporter": "python",
      "pygments_lexer": "ipython3",
      "version": "3.10.10"
    }
  },
  "nbformat": 4,
  "nbformat_minor": 0
}
